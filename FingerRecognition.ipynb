{
  "nbformat": 4,
  "nbformat_minor": 0,
  "metadata": {
    "colab": {
      "name": "FingerRecognition.ipynb",
      "provenance": [],
      "collapsed_sections": []
    },
    "kernelspec": {
      "name": "python3",
      "display_name": "Python 3"
    }
  },
  "cells": [
    {
      "cell_type": "code",
      "metadata": {
        "id": "ICDBhcbgzlP3",
        "colab_type": "code",
        "outputId": "35f42efb-01f2-4fda-f725-763f4684bb40",
        "colab": {
          "base_uri": "https://localhost:8080/",
          "height": 34
        }
      },
      "source": [
        "import sys\n",
        "sys.version_info"
      ],
      "execution_count": 0,
      "outputs": [
        {
          "output_type": "execute_result",
          "data": {
            "text/plain": [
              "sys.version_info(major=3, minor=6, micro=9, releaselevel='final', serial=0)"
            ]
          },
          "metadata": {
            "tags": []
          },
          "execution_count": 9
        }
      ]
    },
    {
      "cell_type": "code",
      "metadata": {
        "id": "WcdEJLyeBMuT",
        "colab_type": "code",
        "outputId": "ad513724-1526-4a23-d0d6-dd5a989399cf",
        "colab": {
          "base_uri": "https://localhost:8080/",
          "height": 34
        }
      },
      "source": [
        "import platform\n",
        "platform.platform()"
      ],
      "execution_count": 0,
      "outputs": [
        {
          "output_type": "execute_result",
          "data": {
            "text/plain": [
              "'Linux-4.19.104+-x86_64-with-Ubuntu-18.04-bionic'"
            ]
          },
          "metadata": {
            "tags": []
          },
          "execution_count": 10
        }
      ]
    },
    {
      "cell_type": "code",
      "metadata": {
        "id": "TGhMO0LchsBL",
        "colab_type": "code",
        "outputId": "6bc78567-951e-4d48-a4ca-5d8fdf3ca3d9",
        "colab": {
          "base_uri": "https://localhost:8080/",
          "height": 606
        }
      },
      "source": [
        "import matplotlib.image as mpimg\n",
        "import numpy as np\n",
        "from skimage.morphology import remove_small_objects\n",
        "from skimage.morphology import binary_opening, binary_closing, square\n",
        "from skimage.morphology import skeletonize\n",
        "import math\n",
        "import glob\n",
        "\n",
        "path = \"/gdrive/My Drive/ColabNote/BAS-HW01-Fingerprints/*\"\n",
        "file_list = sorted(glob.glob(path))\n",
        "test_file_list = [file for file in file_list if file.endswith(\"(1).bmp\") or file.endswith(\"(2).bmp\")]\n",
        "train_file_list = [file for file in file_list if file not in test_file_list]\n",
        "\n",
        "test_file_list\n",
        "\n",
        "def cnvalue(sklist, i, j):  #해당 p점을 기준으로 cn값을 계산해주는 함수\n",
        "    p = sklist[i][j]\n",
        "    cn = 0\n",
        "    if p == 1:              #p==1일때만 CN계산이 의미있기 때문에!\n",
        "        plist = []          #받아온 p값을 기준으로, plist에 순서대로, p, p1, p2, p3.., p9(==p1)을 삽입\n",
        "        plist.append(sklist[i][j])\n",
        "        plist.append(sklist[i + 1][j]), plist.append(sklist[i + 1][j + 1]), plist.append(sklist[i][j + 1]),\n",
        "        plist.append(sklist[i - 1][j + 1]), plist.append(sklist[i - 1][j]), plist.append(sklist[i - 1][j - 1]),\n",
        "        plist.append(sklist[i][j - 1]), plist.append(sklist[i + 1][j - 1]), plist.append(sklist[i + 1][j])  # p9 == p1\n",
        "        cn0 = 0               #cn값을 구하기 위한 임시변수\n",
        "        for i in range(1, 9): #for 문을 이용하여 |p1-p2|+...+|p8-p9|값을 c0 에 저장\n",
        "            cn0 += abs(int(plist[i]) - int(plist[i + 1]))\n",
        "        cn = 0.5 * cn0  # 구한 c0값에서, 모든 pn값들은 2번씩 더해지기 때문에, 0.5를 곱하여 cn 값을 구함\n",
        "    else:\n",
        "        pass\n",
        "    return cn\n",
        "\n",
        "def make_cnlist(filelist, finallist):\n",
        "    for file in filelist:\n",
        "        img = mpimg.imread(file)\n",
        "        img_bin = np.zeros((144, 144))\n",
        "        threshold = 127\n",
        "        img_bin[img <= threshold] = 1\n",
        "        img_bin[img > threshold] = 0\n",
        "        for i in range(144):           #외곽부분을 1->0으로 수정하는 부분\n",
        "            for j in range(144):\n",
        "                if i<20 or i>=120 or j<20 or j>=120 :\n",
        "                    img_bin[i][j] = 0\n",
        "                else : \n",
        "                    continue\n",
        "        #img_bin = img_bin.astype(np.bool) #remove객체를 하기 위해서 필요한 형변환\n",
        "        #img_removed = remove_small_objects(img_bin, 50, connectivity=1) #50\n",
        "        img_o = binary_opening(img_bin, square(3))\n",
        "        img_c = binary_closing(img_o, square(3))\n",
        "        sk = skeletonize(img_c)\n",
        "        #sk=skeletonize(img_removed)\n",
        "        cnlist = []\n",
        "        for i in range(2, 144):\n",
        "            for j in range(2, 144):\n",
        "                p = sk[i][j]\n",
        "                cn = cnvalue(sk, i, j)\n",
        "                if  cn == 1 :         # 단점(cn==1)일 경우, 해당 특징점을 cnlist에 추가\n",
        "                    cnlist.append((i, j, cn))             \n",
        "        finallist.append(cnlist)      # 각 지문에 대해 구한 특징점들을 finallist에 추가\n",
        "\n",
        "test_cnlist = []\n",
        "train_cnlist = []\n",
        "make_cnlist(test_file_list, test_cnlist)\n",
        "make_cnlist(train_file_list, train_cnlist)\n",
        "\n",
        "for i in range(16):\n",
        "    print(len(test_cnlist[i]))\n",
        "    print(test_cnlist[i])\n",
        "\n"
      ],
      "execution_count": 0,
      "outputs": [
        {
          "output_type": "stream",
          "text": [
            "98\n",
            "[(23, 35, 1.0), (25, 72, 1.0), (25, 117, 1.0), (28, 113, 1.0), (29, 36, 1.0), (29, 54, 1.0), (29, 112, 1.0), (30, 35, 1.0), (30, 62, 1.0), (30, 75, 1.0), (31, 82, 1.0), (32, 66, 1.0), (33, 30, 1.0), (33, 98, 1.0), (34, 48, 1.0), (35, 112, 1.0), (36, 112, 1.0), (37, 104, 1.0), (38, 103, 1.0), (38, 118, 1.0), (39, 81, 1.0), (39, 117, 1.0), (43, 50, 1.0), (44, 29, 1.0), (44, 38, 1.0), (44, 111, 1.0), (48, 32, 1.0), (49, 109, 1.0), (50, 58, 1.0), (53, 49, 1.0), (54, 68, 1.0), (54, 73, 1.0), (55, 84, 1.0), (56, 83, 1.0), (58, 30, 1.0), (59, 30, 1.0), (59, 60, 1.0), (60, 39, 1.0), (60, 71, 1.0), (61, 83, 1.0), (62, 46, 1.0), (62, 82, 1.0), (63, 57, 1.0), (63, 93, 1.0), (64, 92, 1.0), (65, 66, 1.0), (66, 37, 1.0), (67, 35, 1.0), (70, 31, 1.0), (70, 106, 1.0), (71, 105, 1.0), (73, 46, 1.0), (73, 79, 1.0), (74, 34, 1.0), (75, 109, 1.0), (76, 73, 1.0), (79, 24, 1.0), (80, 115, 1.0), (82, 117, 1.0), (85, 104, 1.0), (86, 43, 1.0), (86, 81, 1.0), (87, 31, 1.0), (87, 52, 1.0), (89, 29, 1.0), (89, 64, 1.0), (89, 118, 1.0), (90, 98, 1.0), (92, 54, 1.0), (93, 31, 1.0), (93, 113, 1.0), (94, 117, 1.0), (95, 47, 1.0), (95, 94, 1.0), (96, 37, 1.0), (97, 91, 1.0), (97, 105, 1.0), (98, 29, 1.0), (98, 58, 1.0), (98, 104, 1.0), (99, 27, 1.0), (102, 41, 1.0), (104, 59, 1.0), (106, 96, 1.0), (106, 115, 1.0), (107, 27, 1.0), (107, 48, 1.0), (110, 40, 1.0), (110, 71, 1.0), (111, 116, 1.0), (114, 44, 1.0), (115, 58, 1.0), (116, 83, 1.0), (116, 97, 1.0), (116, 110, 1.0), (117, 88, 1.0), (117, 107, 1.0), (118, 21, 1.0)]\n",
            "79\n",
            "[(21, 117, 1.0), (27, 24, 1.0), (30, 62, 1.0), (30, 74, 1.0), (31, 61, 1.0), (31, 82, 1.0), (36, 112, 1.0), (37, 111, 1.0), (43, 30, 1.0), (44, 29, 1.0), (44, 72, 1.0), (45, 57, 1.0), (49, 109, 1.0), (50, 108, 1.0), (54, 40, 1.0), (58, 30, 1.0), (58, 60, 1.0), (58, 77, 1.0), (59, 30, 1.0), (59, 59, 1.0), (59, 76, 1.0), (60, 39, 1.0), (69, 49, 1.0), (70, 55, 1.0), (73, 46, 1.0), (74, 45, 1.0), (75, 34, 1.0), (75, 109, 1.0), (76, 108, 1.0), (77, 42, 1.0), (78, 66, 1.0), (79, 65, 1.0), (80, 32, 1.0), (80, 115, 1.0), (82, 117, 1.0), (83, 36, 1.0), (83, 63, 1.0), (84, 54, 1.0), (85, 71, 1.0), (86, 31, 1.0), (86, 80, 1.0), (87, 81, 1.0), (90, 72, 1.0), (92, 54, 1.0), (93, 31, 1.0), (93, 53, 1.0), (93, 69, 1.0), (94, 68, 1.0), (94, 82, 1.0), (96, 37, 1.0), (96, 99, 1.0), (97, 98, 1.0), (97, 105, 1.0), (98, 58, 1.0), (98, 104, 1.0), (100, 82, 1.0), (104, 66, 1.0), (104, 74, 1.0), (105, 54, 1.0), (105, 65, 1.0), (105, 97, 1.0), (106, 90, 1.0), (106, 95, 1.0), (109, 72, 1.0), (110, 64, 1.0), (110, 71, 1.0), (111, 63, 1.0), (111, 91, 1.0), (113, 44, 1.0), (114, 44, 1.0), (115, 58, 1.0), (115, 67, 1.0), (115, 75, 1.0), (116, 57, 1.0), (116, 67, 1.0), (116, 73, 1.0), (116, 109, 1.0), (117, 108, 1.0), (118, 21, 1.0)]\n",
            "40\n",
            "[(21, 117, 1.0), (65, 38, 1.0), (66, 37, 1.0), (70, 27, 1.0), (72, 83, 1.0), (73, 82, 1.0), (78, 61, 1.0), (79, 60, 1.0), (80, 53, 1.0), (80, 87, 1.0), (81, 38, 1.0), (81, 78, 1.0), (81, 86, 1.0), (82, 37, 1.0), (82, 77, 1.0), (82, 104, 1.0), (83, 103, 1.0), (85, 51, 1.0), (90, 112, 1.0), (91, 57, 1.0), (91, 111, 1.0), (92, 56, 1.0), (95, 80, 1.0), (96, 80, 1.0), (97, 56, 1.0), (98, 55, 1.0), (100, 32, 1.0), (101, 37, 1.0), (101, 68, 1.0), (102, 63, 1.0), (105, 72, 1.0), (106, 72, 1.0), (108, 104, 1.0), (109, 103, 1.0), (113, 24, 1.0), (113, 75, 1.0), (114, 45, 1.0), (114, 74, 1.0), (115, 45, 1.0), (118, 21, 1.0)]\n",
            "48\n",
            "[(21, 117, 1.0), (32, 62, 1.0), (33, 61, 1.0), (45, 43, 1.0), (46, 42, 1.0), (55, 83, 1.0), (56, 82, 1.0), (59, 41, 1.0), (60, 40, 1.0), (65, 38, 1.0), (66, 37, 1.0), (67, 77, 1.0), (68, 76, 1.0), (70, 27, 1.0), (70, 49, 1.0), (71, 48, 1.0), (72, 83, 1.0), (73, 82, 1.0), (78, 61, 1.0), (79, 60, 1.0), (80, 53, 1.0), (80, 87, 1.0), (81, 38, 1.0), (81, 78, 1.0), (81, 86, 1.0), (82, 37, 1.0), (82, 77, 1.0), (85, 51, 1.0), (90, 112, 1.0), (91, 57, 1.0), (91, 111, 1.0), (92, 56, 1.0), (95, 80, 1.0), (96, 80, 1.0), (97, 56, 1.0), (98, 55, 1.0), (100, 32, 1.0), (100, 36, 1.0), (101, 68, 1.0), (103, 63, 1.0), (105, 72, 1.0), (107, 39, 1.0), (111, 33, 1.0), (113, 24, 1.0), (113, 75, 1.0), (114, 45, 1.0), (115, 45, 1.0), (118, 21, 1.0)]\n",
            "85\n",
            "[(21, 117, 1.0), (24, 47, 1.0), (24, 74, 1.0), (28, 33, 1.0), (28, 62, 1.0), (29, 32, 1.0), (29, 40, 1.0), (30, 39, 1.0), (30, 99, 1.0), (31, 115, 1.0), (32, 83, 1.0), (32, 114, 1.0), (33, 44, 1.0), (33, 104, 1.0), (34, 66, 1.0), (35, 60, 1.0), (36, 78, 1.0), (39, 44, 1.0), (39, 110, 1.0), (40, 42, 1.0), (40, 56, 1.0), (40, 88, 1.0), (41, 75, 1.0), (41, 89, 1.0), (43, 116, 1.0), (44, 115, 1.0), (46, 101, 1.0), (47, 93, 1.0), (47, 100, 1.0), (48, 47, 1.0), (49, 85, 1.0), (50, 35, 1.0), (50, 96, 1.0), (51, 34, 1.0), (54, 31, 1.0), (54, 117, 1.0), (55, 118, 1.0), (56, 28, 1.0), (56, 109, 1.0), (59, 59, 1.0), (59, 106, 1.0), (60, 24, 1.0), (63, 101, 1.0), (65, 59, 1.0), (67, 51, 1.0), (73, 117, 1.0), (74, 62, 1.0), (75, 31, 1.0), (75, 40, 1.0), (75, 56, 1.0), (76, 30, 1.0), (76, 38, 1.0), (81, 117, 1.0), (85, 50, 1.0), (86, 111, 1.0), (87, 40, 1.0), (87, 110, 1.0), (88, 34, 1.0), (91, 47, 1.0), (92, 100, 1.0), (93, 57, 1.0), (95, 50, 1.0), (96, 87, 1.0), (96, 107, 1.0), (97, 113, 1.0), (100, 72, 1.0), (101, 38, 1.0), (101, 102, 1.0), (103, 43, 1.0), (103, 94, 1.0), (104, 67, 1.0), (105, 89, 1.0), (107, 82, 1.0), (107, 103, 1.0), (108, 102, 1.0), (108, 111, 1.0), (109, 76, 1.0), (109, 110, 1.0), (111, 88, 1.0), (114, 52, 1.0), (114, 58, 1.0), (115, 58, 1.0), (116, 95, 1.0), (117, 92, 1.0), (118, 21, 1.0)]\n",
            "83\n",
            "[(21, 117, 1.0), (28, 35, 1.0), (28, 109, 1.0), (29, 54, 1.0), (30, 53, 1.0), (30, 71, 1.0), (31, 42, 1.0), (33, 36, 1.0), (34, 35, 1.0), (34, 92, 1.0), (35, 48, 1.0), (35, 118, 1.0), (36, 68, 1.0), (36, 95, 1.0), (38, 109, 1.0), (44, 91, 1.0), (45, 26, 1.0), (46, 47, 1.0), (48, 32, 1.0), (52, 100, 1.0), (53, 39, 1.0), (53, 88, 1.0), (53, 99, 1.0), (54, 24, 1.0), (54, 52, 1.0), (60, 42, 1.0), (60, 92, 1.0), (61, 24, 1.0), (61, 41, 1.0), (61, 52, 1.0), (62, 95, 1.0), (62, 115, 1.0), (63, 114, 1.0), (64, 102, 1.0), (67, 37, 1.0), (68, 110, 1.0), (69, 24, 1.0), (69, 34, 1.0), (70, 50, 1.0), (70, 117, 1.0), (71, 116, 1.0), (73, 47, 1.0), (73, 79, 1.0), (74, 42, 1.0), (74, 110, 1.0), (75, 28, 1.0), (75, 109, 1.0), (77, 40, 1.0), (78, 45, 1.0), (80, 104, 1.0), (81, 96, 1.0), (84, 110, 1.0), (85, 42, 1.0), (85, 117, 1.0), (86, 32, 1.0), (87, 100, 1.0), (90, 116, 1.0), (91, 115, 1.0), (92, 24, 1.0), (96, 32, 1.0), (99, 61, 1.0), (102, 104, 1.0), (105, 79, 1.0), (105, 88, 1.0), (105, 101, 1.0), (106, 41, 1.0), (106, 53, 1.0), (107, 69, 1.0), (111, 101, 1.0), (111, 108, 1.0), (112, 107, 1.0), (113, 81, 1.0), (114, 63, 1.0), (114, 68, 1.0), (115, 42, 1.0), (115, 57, 1.0), (115, 62, 1.0), (116, 57, 1.0), (116, 71, 1.0), (117, 32, 1.0), (117, 100, 1.0), (118, 21, 1.0), (118, 31, 1.0)]\n",
            "35\n",
            "[(21, 117, 1.0), (35, 118, 1.0), (36, 110, 1.0), (37, 87, 1.0), (38, 98, 1.0), (40, 114, 1.0), (46, 108, 1.0), (58, 109, 1.0), (60, 104, 1.0), (63, 115, 1.0), (69, 114, 1.0), (71, 107, 1.0), (72, 40, 1.0), (79, 35, 1.0), (81, 109, 1.0), (86, 113, 1.0), (97, 112, 1.0), (98, 118, 1.0), (99, 117, 1.0), (104, 54, 1.0), (104, 95, 1.0), (105, 113, 1.0), (107, 49, 1.0), (108, 33, 1.0), (112, 45, 1.0), (112, 53, 1.0), (113, 38, 1.0), (115, 102, 1.0), (116, 109, 1.0), (116, 118, 1.0), (117, 24, 1.0), (117, 32, 1.0), (117, 78, 1.0), (118, 31, 1.0), (118, 114, 1.0)]\n",
            "23\n",
            "[(21, 118, 1.0), (29, 118, 1.0), (35, 108, 1.0), (38, 98, 1.0), (39, 116, 1.0), (46, 108, 1.0), (58, 109, 1.0), (63, 115, 1.0), (64, 116, 1.0), (71, 107, 1.0), (92, 116, 1.0), (98, 118, 1.0), (99, 117, 1.0), (106, 113, 1.0), (109, 33, 1.0), (109, 116, 1.0), (112, 45, 1.0), (113, 25, 1.0), (115, 61, 1.0), (116, 111, 1.0), (118, 21, 1.0), (118, 31, 1.0), (118, 90, 1.0)]\n",
            "80\n",
            "[(21, 117, 1.0), (27, 33, 1.0), (28, 32, 1.0), (33, 117, 1.0), (34, 116, 1.0), (38, 34, 1.0), (39, 28, 1.0), (39, 33, 1.0), (53, 29, 1.0), (54, 28, 1.0), (54, 39, 1.0), (54, 110, 1.0), (55, 38, 1.0), (55, 109, 1.0), (57, 73, 1.0), (58, 72, 1.0), (62, 99, 1.0), (62, 113, 1.0), (63, 98, 1.0), (66, 39, 1.0), (67, 38, 1.0), (67, 47, 1.0), (67, 79, 1.0), (67, 114, 1.0), (68, 46, 1.0), (68, 55, 1.0), (68, 78, 1.0), (69, 33, 1.0), (69, 55, 1.0), (70, 32, 1.0), (70, 105, 1.0), (73, 50, 1.0), (74, 49, 1.0), (75, 83, 1.0), (76, 76, 1.0), (76, 83, 1.0), (76, 98, 1.0), (77, 75, 1.0), (77, 97, 1.0), (80, 57, 1.0), (80, 106, 1.0), (81, 87, 1.0), (83, 25, 1.0), (85, 72, 1.0), (85, 118, 1.0), (86, 117, 1.0), (88, 53, 1.0), (89, 88, 1.0), (90, 91, 1.0), (90, 111, 1.0), (91, 72, 1.0), (91, 110, 1.0), (93, 32, 1.0), (95, 32, 1.0), (96, 68, 1.0), (97, 111, 1.0), (98, 82, 1.0), (98, 110, 1.0), (99, 40, 1.0), (99, 81, 1.0), (100, 40, 1.0), (100, 50, 1.0), (101, 64, 1.0), (102, 102, 1.0), (103, 60, 1.0), (103, 93, 1.0), (104, 45, 1.0), (104, 111, 1.0), (105, 45, 1.0), (106, 88, 1.0), (107, 100, 1.0), (108, 56, 1.0), (109, 67, 1.0), (113, 99, 1.0), (113, 108, 1.0), (113, 115, 1.0), (114, 99, 1.0), (115, 45, 1.0), (115, 50, 1.0), (118, 21, 1.0)]\n",
            "64\n",
            "[(21, 117, 1.0), (24, 30, 1.0), (33, 117, 1.0), (34, 116, 1.0), (38, 34, 1.0), (39, 28, 1.0), (39, 33, 1.0), (53, 29, 1.0), (54, 28, 1.0), (54, 39, 1.0), (54, 110, 1.0), (55, 38, 1.0), (55, 109, 1.0), (62, 99, 1.0), (62, 113, 1.0), (63, 98, 1.0), (66, 39, 1.0), (67, 38, 1.0), (67, 47, 1.0), (67, 104, 1.0), (68, 46, 1.0), (68, 55, 1.0), (68, 86, 1.0), (68, 115, 1.0), (69, 55, 1.0), (73, 50, 1.0), (74, 49, 1.0), (76, 98, 1.0), (77, 97, 1.0), (80, 57, 1.0), (80, 106, 1.0), (81, 56, 1.0), (83, 25, 1.0), (84, 72, 1.0), (86, 52, 1.0), (88, 57, 1.0), (89, 46, 1.0), (90, 111, 1.0), (91, 55, 1.0), (91, 110, 1.0), (96, 94, 1.0), (97, 111, 1.0), (98, 82, 1.0), (98, 110, 1.0), (99, 40, 1.0), (99, 56, 1.0), (100, 39, 1.0), (100, 50, 1.0), (101, 64, 1.0), (102, 102, 1.0), (103, 60, 1.0), (104, 111, 1.0), (105, 45, 1.0), (105, 60, 1.0), (106, 45, 1.0), (106, 88, 1.0), (107, 100, 1.0), (108, 56, 1.0), (109, 67, 1.0), (113, 99, 1.0), (113, 115, 1.0), (114, 99, 1.0), (115, 51, 1.0), (118, 21, 1.0)]\n",
            "34\n",
            "[(21, 117, 1.0), (25, 95, 1.0), (28, 115, 1.0), (30, 109, 1.0), (31, 43, 1.0), (31, 103, 1.0), (35, 74, 1.0), (37, 24, 1.0), (37, 97, 1.0), (37, 115, 1.0), (38, 88, 1.0), (41, 48, 1.0), (41, 80, 1.0), (41, 112, 1.0), (42, 64, 1.0), (43, 63, 1.0), (44, 50, 1.0), (48, 46, 1.0), (48, 111, 1.0), (54, 52, 1.0), (59, 45, 1.0), (60, 104, 1.0), (60, 118, 1.0), (67, 117, 1.0), (69, 32, 1.0), (70, 118, 1.0), (75, 26, 1.0), (76, 34, 1.0), (76, 114, 1.0), (84, 117, 1.0), (109, 114, 1.0), (113, 101, 1.0), (114, 58, 1.0), (118, 21, 1.0)]\n",
            "70\n",
            "[(21, 117, 1.0), (28, 65, 1.0), (29, 32, 1.0), (29, 59, 1.0), (29, 64, 1.0), (30, 116, 1.0), (32, 102, 1.0), (33, 28, 1.0), (34, 40, 1.0), (34, 69, 1.0), (34, 72, 1.0), (37, 97, 1.0), (37, 115, 1.0), (39, 79, 1.0), (40, 50, 1.0), (40, 78, 1.0), (41, 60, 1.0), (44, 98, 1.0), (45, 109, 1.0), (47, 86, 1.0), (48, 59, 1.0), (49, 24, 1.0), (49, 101, 1.0), (50, 75, 1.0), (50, 87, 1.0), (50, 118, 1.0), (51, 75, 1.0), (53, 44, 1.0), (53, 81, 1.0), (54, 67, 1.0), (56, 69, 1.0), (56, 91, 1.0), (57, 59, 1.0), (60, 28, 1.0), (60, 118, 1.0), (64, 33, 1.0), (66, 39, 1.0), (70, 25, 1.0), (70, 118, 1.0), (74, 40, 1.0), (75, 61, 1.0), (76, 26, 1.0), (76, 34, 1.0), (77, 54, 1.0), (78, 54, 1.0), (81, 116, 1.0), (82, 50, 1.0), (86, 64, 1.0), (88, 107, 1.0), (88, 118, 1.0), (89, 27, 1.0), (89, 117, 1.0), (91, 111, 1.0), (96, 30, 1.0), (96, 39, 1.0), (98, 112, 1.0), (100, 35, 1.0), (103, 40, 1.0), (103, 66, 1.0), (104, 105, 1.0), (107, 75, 1.0), (109, 114, 1.0), (113, 101, 1.0), (114, 58, 1.0), (117, 28, 1.0), (117, 55, 1.0), (117, 84, 1.0), (118, 21, 1.0), (118, 46, 1.0), (118, 63, 1.0)]\n",
            "63\n",
            "[(21, 117, 1.0), (29, 117, 1.0), (30, 116, 1.0), (31, 75, 1.0), (37, 39, 1.0), (37, 61, 1.0), (39, 43, 1.0), (40, 42, 1.0), (40, 89, 1.0), (41, 88, 1.0), (43, 57, 1.0), (44, 70, 1.0), (45, 41, 1.0), (46, 39, 1.0), (46, 52, 1.0), (46, 63, 1.0), (46, 100, 1.0), (47, 76, 1.0), (47, 99, 1.0), (56, 77, 1.0), (59, 40, 1.0), (60, 39, 1.0), (60, 89, 1.0), (60, 92, 1.0), (61, 82, 1.0), (62, 79, 1.0), (64, 101, 1.0), (65, 100, 1.0), (66, 25, 1.0), (66, 52, 1.0), (67, 51, 1.0), (69, 66, 1.0), (70, 64, 1.0), (72, 79, 1.0), (73, 56, 1.0), (74, 36, 1.0), (75, 35, 1.0), (78, 54, 1.0), (78, 67, 1.0), (79, 44, 1.0), (80, 43, 1.0), (82, 26, 1.0), (82, 84, 1.0), (83, 82, 1.0), (84, 76, 1.0), (86, 57, 1.0), (86, 67, 1.0), (87, 24, 1.0), (92, 72, 1.0), (93, 71, 1.0), (93, 94, 1.0), (94, 86, 1.0), (94, 93, 1.0), (95, 85, 1.0), (97, 82, 1.0), (98, 81, 1.0), (100, 63, 1.0), (101, 62, 1.0), (101, 79, 1.0), (102, 78, 1.0), (112, 109, 1.0), (115, 110, 1.0), (118, 21, 1.0)]\n",
            "61\n",
            "[(21, 117, 1.0), (24, 101, 1.0), (28, 78, 1.0), (29, 117, 1.0), (30, 116, 1.0), (31, 75, 1.0), (37, 39, 1.0), (37, 61, 1.0), (39, 44, 1.0), (40, 42, 1.0), (40, 89, 1.0), (41, 88, 1.0), (43, 57, 1.0), (44, 70, 1.0), (45, 41, 1.0), (46, 39, 1.0), (46, 52, 1.0), (46, 63, 1.0), (46, 100, 1.0), (47, 76, 1.0), (47, 99, 1.0), (56, 77, 1.0), (59, 40, 1.0), (60, 39, 1.0), (60, 89, 1.0), (61, 82, 1.0), (61, 94, 1.0), (62, 79, 1.0), (64, 101, 1.0), (65, 100, 1.0), (66, 25, 1.0), (66, 52, 1.0), (67, 51, 1.0), (69, 66, 1.0), (70, 64, 1.0), (72, 79, 1.0), (73, 56, 1.0), (74, 36, 1.0), (75, 35, 1.0), (78, 54, 1.0), (78, 67, 1.0), (79, 44, 1.0), (80, 43, 1.0), (82, 26, 1.0), (84, 76, 1.0), (86, 57, 1.0), (86, 67, 1.0), (87, 24, 1.0), (92, 72, 1.0), (93, 71, 1.0), (93, 94, 1.0), (94, 86, 1.0), (94, 93, 1.0), (95, 85, 1.0), (97, 82, 1.0), (98, 81, 1.0), (101, 79, 1.0), (102, 78, 1.0), (112, 109, 1.0), (115, 110, 1.0), (118, 21, 1.0)]\n",
            "53\n",
            "[(21, 117, 1.0), (27, 35, 1.0), (29, 40, 1.0), (30, 82, 1.0), (31, 81, 1.0), (37, 46, 1.0), (37, 102, 1.0), (38, 101, 1.0), (41, 112, 1.0), (41, 115, 1.0), (44, 61, 1.0), (45, 50, 1.0), (45, 60, 1.0), (45, 109, 1.0), (45, 113, 1.0), (53, 59, 1.0), (54, 58, 1.0), (55, 104, 1.0), (56, 86, 1.0), (56, 103, 1.0), (57, 84, 1.0), (65, 99, 1.0), (66, 73, 1.0), (66, 98, 1.0), (67, 70, 1.0), (68, 88, 1.0), (69, 87, 1.0), (73, 115, 1.0), (74, 114, 1.0), (81, 79, 1.0), (82, 68, 1.0), (82, 78, 1.0), (83, 26, 1.0), (85, 74, 1.0), (86, 62, 1.0), (87, 61, 1.0), (88, 107, 1.0), (90, 111, 1.0), (93, 75, 1.0), (94, 115, 1.0), (96, 65, 1.0), (96, 117, 1.0), (103, 82, 1.0), (106, 108, 1.0), (107, 115, 1.0), (108, 86, 1.0), (109, 85, 1.0), (114, 115, 1.0), (115, 116, 1.0), (117, 82, 1.0), (117, 106, 1.0), (118, 21, 1.0), (118, 107, 1.0)]\n",
            "52\n",
            "[(21, 117, 1.0), (29, 40, 1.0), (30, 39, 1.0), (36, 52, 1.0), (37, 46, 1.0), (37, 102, 1.0), (38, 101, 1.0), (41, 112, 1.0), (41, 115, 1.0), (43, 41, 1.0), (44, 40, 1.0), (44, 51, 1.0), (44, 61, 1.0), (45, 50, 1.0), (45, 60, 1.0), (45, 113, 1.0), (53, 59, 1.0), (54, 58, 1.0), (56, 86, 1.0), (57, 84, 1.0), (65, 99, 1.0), (66, 73, 1.0), (66, 98, 1.0), (67, 70, 1.0), (68, 88, 1.0), (69, 87, 1.0), (73, 115, 1.0), (74, 114, 1.0), (75, 86, 1.0), (79, 82, 1.0), (81, 79, 1.0), (82, 69, 1.0), (83, 26, 1.0), (86, 62, 1.0), (87, 61, 1.0), (88, 108, 1.0), (90, 111, 1.0), (90, 118, 1.0), (92, 58, 1.0), (93, 57, 1.0), (93, 75, 1.0), (96, 116, 1.0), (106, 108, 1.0), (106, 114, 1.0), (108, 86, 1.0), (108, 117, 1.0), (113, 80, 1.0), (115, 116, 1.0), (117, 99, 1.0), (117, 100, 1.0), (117, 105, 1.0), (118, 21, 1.0)]\n"
          ],
          "name": "stdout"
        }
      ]
    },
    {
      "cell_type": "code",
      "metadata": {
        "id": "6UVLgEQBsPpe",
        "colab_type": "code",
        "cellView": "code",
        "outputId": "83731199-edf1-467b-c298-e151fbd19368",
        "colab": {
          "base_uri": "https://localhost:8080/",
          "height": 124
        }
      },
      "source": [
        "def distance(point1, point2):      #거리를 구하는 공식\n",
        "    distance = math.sqrt((point1[0] - point2[0]) ** 2 + (point1[1] - point2[1]) ** 2)\n",
        "    return distance\n",
        " \n",
        "def matching(cnlist1, cnlist2, mth, dth):   #매칭률을 구하는 함수\n",
        "    cnt = 0\n",
        "    for i in range(len(cnlist1)):\n",
        "        for j in range(len(cnlist2)):\n",
        "            d = distance(cnlist1[i], cnlist2[j])\n",
        "            if d <= mth:\n",
        "                cnt += 1\n",
        "    allcount = len(cnlist1) * len(cnlist2)\n",
        "    mr = (cnt / allcount) * 100 # 매칭률 = (매칭된 특정점의 수 / 모든 비교 횟수) * 100\n",
        "    if mr >= dth:\n",
        "        return 1 # pass 했을 경우 1을 return\n",
        "    else:\n",
        "        return 0\n",
        "\n",
        "def verification(cnlist_t, num, train_cnlist, mth, dth): #test_list 하나의 샘플 지문, num은 test_cnlist에서의 지문번호\n",
        "    dnt_mine = 0 # 내것과 동일한 지문 중에서 통과된 것의 수\n",
        "    dnt_other = 0 # 내것과 다른 지문 중에서 통과된 것의 수 \n",
        "    for number, cnlist in enumerate(train_cnlist):      \n",
        "        if matching(cnlist_t, cnlist, mth, dth) == 1 :\n",
        "            if num == ((number//8)+1) : #지문이 동일한 것인지 확인\n",
        "                dnt_mine +=1\n",
        "            else :\n",
        "                dnt_other +=1\n",
        "    FRR = ((8 - dnt_mine)/8)*100   #본인 지문 8개 대비 통과 안된 경우의 수\n",
        "    FAR = (dnt_other/56)*100       #타인 지문 56개 대비 통과된 경우의 수\n",
        "    return [FRR, FAR] #하나의 샘플 지문에 대한 FRR, FAR값\n",
        "\n",
        "def calculation(final, mth, dth):\n",
        "    avg_FRR = 0\n",
        "    avg_FAR = 0\n",
        "    for i in range(len(test_cnlist)) :\n",
        "        num = (i // 2) + 1 #해당 test 지문이 몇번째 지문인지 알려주는 번호\n",
        "        v = verification(test_cnlist[i], num, train_cnlist, mth, dth)\n",
        "        avg_FRR += v[0]\n",
        "        avg_FAR += v[1]\n",
        "    avg_FRR /= 16\n",
        "    avg_FAR /= 16\n",
        "    final.append([avg_FRR, avg_FAR])\n",
        "\n",
        "#mth가 변할때, dth에 따른 FRR,FAR 값 출력\n",
        "mth10 = []\n",
        "mth30 = []\n",
        "mth50 = []\n",
        "mth70 = []\n",
        "mth100 = []\n",
        "\n",
        "dth = [10, 30, 50, 70, 90]  \n",
        "for i in dth:\n",
        "    calculation(mth10, 10, i)\n",
        "    calculation(mth30, 30, i)\n",
        "    calculation(mth50, 50, i)\n",
        "    calculation(mth70, 70, i)\n",
        "    calculation(mth100, 100, i)\n",
        "    \n",
        "print(mth10),print(mth30),print(mth50), print(mth70),print(mth100)"
      ],
      "execution_count": 0,
      "outputs": [
        {
          "output_type": "stream",
          "text": [
            "[[100.0, 0.0], [100.0, 0.0], [100.0, 0.0], [100.0, 0.0], [100.0, 0.0]]\n",
            "[[0.0, 100.0], [87.5, 2.790178571428571], [100.0, 0.0], [100.0, 0.0], [100.0, 0.0]]\n",
            "[[0.0, 100.0], [0.0, 100.0], [39.84375, 56.36160714285714], [90.625, 0.0], [100.0, 0.0]]\n",
            "[[0.0, 100.0], [0.0, 100.0], [0.0, 100.0], [14.0625, 84.59821428571428], [98.4375, 0.0]]\n",
            "[[0.0, 100.0], [0.0, 100.0], [0.0, 100.0], [0.0, 100.0], [0.0, 100.0]]\n"
          ],
          "name": "stdout"
        },
        {
          "output_type": "execute_result",
          "data": {
            "text/plain": [
              "(None, None, None, None, None)"
            ]
          },
          "metadata": {
            "tags": []
          },
          "execution_count": 71
        }
      ]
    },
    {
      "cell_type": "code",
      "metadata": {
        "id": "NhDbRxoIEo2P",
        "colab_type": "code",
        "outputId": "1bf6a5ed-8448-4940-d2e4-4ee0bf5d61e9",
        "colab": {
          "base_uri": "https://localhost:8080/",
          "height": 295
        }
      },
      "source": [
        "#mth, dth에 따른 차트\n",
        "from matplotlib import pyplot as plt\n",
        "plt.plot(dth, mth100)\n",
        "plt.title('mth=100'), plt.xlabel('dth'), plt.ylabel('FRR and FAR'), plt.legend(['FRR', 'FAR'])\n",
        "plt.show()\n",
        "\n",
        "#mth, dth에 따른 표\n",
        "from pandas import Series, DataFrame\n",
        "import pandas as pd\n",
        "df =  pd.DataFrame(mth100, columns=['FRR','FAR'], index = dth)\n",
        "print('mth = 100 일때, dth에 따른 FRR, FAR')\n",
        "df"
      ],
      "execution_count": 0,
      "outputs": [
        {
          "output_type": "display_data",
          "data": {
            "image/png": "[encoded data removed]",
            "text/plain": [
              "<Figure size 432x288 with 1 Axes>"
            ]
          },
          "metadata": {
            "tags": [],
            "needs_background": "light"
          }
        }
      ]
    },
    {
      "cell_type": "code",
      "metadata": {
        "id": "nIWinCvSH5L1",
        "colab_type": "code",
        "colab": {}
      },
      "source": [
        "def matching_rate(cnlist1, cnlist2, mth):  #매칭률 반환해주는 함수\n",
        "    cnt = 0\n",
        "    for i in range(len(cnlist1)):\n",
        "        for j in range(len(cnlist2)):\n",
        "            d = distance(cnlist1[i], cnlist2[j])\n",
        "            if d <= mth:\n",
        "                cnt += 1\n",
        "    allcount = len(cnlist1) * len(cnlist2)\n",
        "    mr = (cnt / allcount) * 100 # 매칭률 = (매칭된 특정점의 수 / 모든 비교 횟수) * 100\n",
        "    return mr\n",
        "\n",
        "id = [[0]*67 for i in range(16)]\n",
        "def identification(test_cnlist, train_cnlist, mth):\n",
        "    for i in range(len(test_cnlist)):\n",
        "        for j in range(len(train_cnlist)):  #i번째 행의 matching rate을 다 계산\n",
        "            id[i][j] = matching_rate(test_cnlist[i], train_cnlist[j], mth) #매칭률 계산해서 저장\n",
        "\n",
        "        maxvalue = id[i][0]  \n",
        "        maxindex = 0\n",
        "        for j in range(64):          #계산된 matching rate중에 가장 큰 것을 찾음\n",
        "            if maxvalue < id[i][j] :\n",
        "                maxvalue = id[i][j]   #가장 매칭률이 클 때의 매칭률과, 그때의 인덱스를 저장\n",
        "                maxindex = j\n",
        "        id[i][64] = maxvalue\n",
        "        id[i][65] = (maxindex //8) +1\n",
        "        if ((i//2)+1) == ((maxindex //8) +1) : \n",
        "            id[i][66] = 1             #두 지문의 ID가 동일할때\n",
        "        else:\n",
        "            id[i][66] = 0\n"
      ],
      "execution_count": 0,
      "outputs": []
    },
    {
      "cell_type": "markdown",
      "metadata": {
        "id": "dOqAu00TRadx",
        "colab_type": "text"
      },
      "source": [
        ""
      ]
    },
    {
      "cell_type": "code",
      "metadata": {
        "id": "THke8vwbRed9",
        "colab_type": "code",
        "outputId": "f8348672-3cb1-4066-e8f4-d6493ac27d43",
        "colab": {
          "base_uri": "https://localhost:8080/",
          "height": 352
        }
      },
      "source": [
        "#mth에 따른 매칭률 비교 차트\n",
        "from matplotlib import pyplot as plt\n",
        "mth = [\"10\", \"30\", \"50\", \"70\", \"100\"]\n",
        "mr = []\n",
        "for j in mth:\n",
        "    identification(test_cnlist, train_cnlist, int(j))\n",
        "    cnt = 0\n",
        "    for i in range(16):\n",
        "        if id[i][66] ==1:\n",
        "            cnt+=1\n",
        "    MR = (cnt/16)*100\n",
        "    mr.append(MR)\n",
        "plt.bar(mth, mr, color='skyblue')\n",
        "ax = plt.subplot()\n",
        "ax.set_xticklabels(mth)\n",
        "plt.xlabel('mth'), plt.ylabel('MR')\n",
        "plt.show()\n",
        "print(mr)\n"
      ],
      "execution_count": 0,
      "outputs": [
        {
          "output_type": "stream",
          "text": [
            "/usr/local/lib/python3.6/dist-packages/ipykernel_launcher.py:13: MatplotlibDeprecationWarning: Adding an axes using the same arguments as a previous axes currently reuses the earlier instance.  In a future version, a new instance will always be created and returned.  Meanwhile, this warning can be suppressed, and the future behavior ensured, by passing a unique label to each axes instance.\n",
            "  del sys.path[0]\n"
          ],
          "name": "stderr"
        },
        {
          "output_type": "display_data",
          "data": {
            "image/png": "[encoded data removed]",
            "text/plain": [
              "<Figure size 432x288 with 1 Axes>"
            ]
          },
          "metadata": {
            "tags": [],
            "needs_background": "light"
          }
        },
        {
          "output_type": "stream",
          "text": [
            "[75.0, 81.25, 81.25, 81.25, 81.25, 75.0]\n"
          ],
          "name": "stdout"
        }
      ]
    },
    {
      "cell_type": "code",
      "metadata": {
        "id": "xL4eJcaEjszk",
        "colab_type": "code",
        "outputId": "b70b6277-2974-4ffa-b2d3-222eca6c711b",
        "colab": {
          "base_uri": "https://localhost:8080/",
          "height": 355
        }
      },
      "source": [
        "#mth별 두 지문간의 특징점 매칭률 표\n",
        "from pandas import Series, DataFrame\n",
        "import pandas as pd\n",
        "id = [[0]*67 for i in range(16)]\n",
        "identification(test_cnlist, train_cnlist, 7)\n",
        "it = [10, 3, 4, 5, 6, 7, 8, 9]\n",
        "index_columns=[]\n",
        "index_row =[]\n",
        "for i in range(1, 9):\n",
        "    for j in it:\n",
        "        index_columns.append(str(i)+'('+str(j)+')')\n",
        "index_columns.append('max 매칭률')\n",
        "index_columns.append('해당 ID')\n",
        "index_columns.append('본인여부')\n",
        "for i in range(1, 9):\n",
        "    for j in range(1,3):\n",
        "        index_row.append(str(i)+'('+str(j)+')')\n",
        "df =  pd.DataFrame(id, columns=index_columns, index=index_row)\n",
        "print(df)"
      ],
      "execution_count": 0,
      "outputs": [
        {
          "output_type": "stream",
          "text": [
            "         1(10)      1(3)      1(4)      1(5)  ...      8(9)   max 매칭률  해당 ID  본인여부\n",
            "1(1)  1.537071  1.510204  1.360544  1.290516  ...  1.616954  1.717272      4     0\n",
            "1(2)  2.163115  3.341772  3.023910  3.090097  ...  1.811100  3.341772      1     1\n",
            "2(1)  2.594937  2.300000  2.256944  2.352941  ...  1.461538  4.062500      2     1\n",
            "2(2)  2.505274  2.194444  2.083333  2.175245  ...  1.634615  4.340278      2     1\n",
            "3(1)  1.459419  1.474510  1.437908  1.470588  ...  1.484163  1.885813      5     0\n",
            "3(2)  1.403081  1.526104  1.506024  1.523742  ...  1.316033  2.396543      3     1\n",
            "4(1)  1.338156  1.447619  1.468254  1.386555  ...  1.538462  3.623693      4     1\n",
            "4(2)  1.210787  0.985507  0.905797  0.831202  ...  2.006689  3.499470      4     1\n",
            "5(1)  1.898734  1.916667  1.875000  1.930147  ...  1.384615  2.481618      5     1\n",
            "5(2)  1.602057  2.020833  1.801215  1.907169  ...  1.466346  2.780331      5     1\n",
            "6(1)  1.079672  0.666667  0.694444  0.735294  ...  1.538462  2.654232      4     0\n",
            "6(2)  1.663653  1.276190  1.349206  1.323529  ...  1.296703  1.777003      4     0\n",
            "7(1)  1.707856  1.756614  1.697531  1.727358  ...  1.807082  3.240741      7     1\n",
            "7(2)  1.680847  1.683060  1.616576  1.639344  ...  1.866330  3.369763      7     1\n",
            "8(1)  1.528541  1.484277  1.441300  1.304107  ...  2.206096  3.245283      8     1\n",
            "8(2)  1.557936  1.230769  1.148504  1.074661  ...  2.278107  3.500000      8     1\n",
            "\n",
            "[16 rows x 67 columns]\n"
          ],
          "name": "stdout"
        }
      ]
    }
  ]
}